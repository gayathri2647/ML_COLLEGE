{
 "cells": [
  {
   "cell_type": "markdown",
   "id": "d5a3fa7e",
   "metadata": {},
   "source": [
    "**Reshaping array using reshape(),flatten() and ravel()**"
   ]
  },
  {
   "cell_type": "code",
   "execution_count": 7,
   "id": "4172a2dc",
   "metadata": {},
   "outputs": [
    {
     "name": "stdout",
     "output_type": "stream",
     "text": [
      "[[ 11  22  33  44  55]\n",
      " [ 66  77  88  99 111]]\n"
     ]
    }
   ],
   "source": [
    "#Reshaping array from 1-d to 2-d\n",
    "import numpy as np\n",
    "arr=np.array([11,22,33,44,55,66,77,88,99,111])\n",
    "#using reshape()\n",
    "newarr = arr.reshape(2,5)\n",
    "print(newarr)"
   ]
  },
  {
   "cell_type": "code",
   "execution_count": 9,
   "id": "88028c10",
   "metadata": {},
   "outputs": [
    {
     "name": "stdout",
     "output_type": "stream",
     "text": [
      "[[ 1  2  3]\n",
      " [ 4  5  6]\n",
      " [ 7  8  9]\n",
      " [10 11 12]]\n"
     ]
    }
   ],
   "source": [
    "# Reshape From 1-D to 2-D\n",
    "arr = np.array([1, 2, 3, 4, 5, 6, 7, 8, 9, 10, 11, 12])\n",
    "newarr = arr.reshape(4,3)\n",
    "print(newarr)"
   ]
  },
  {
   "cell_type": "code",
   "execution_count": 15,
   "id": "9e87fe3d",
   "metadata": {},
   "outputs": [
    {
     "name": "stdout",
     "output_type": "stream",
     "text": [
      "[[1 2 3 4 5 6 7 8]]\n",
      "[1 2 3 4 5 6 7 8]\n",
      "(1, 8)\n",
      "(8,)\n"
     ]
    }
   ],
   "source": [
    "# Reshape From 2-D to 1-D\n",
    "import numpy as np\n",
    "arr = np.array([[1, 2, 3, 4], [5, 6, 7, 8]])\n",
    "newarr1 = arr.reshape(1,8)   # returns 2-D array with 1 row and 8 coulmns\n",
    "newarr2 = arr.reshape(-2028)\n",
    "print(newarr1)\n",
    "print(newarr2)\n",
    "print(newarr1.shape)\n",
    "print(newarr2.shape)"
   ]
  },
  {
   "cell_type": "code",
   "execution_count": null,
   "id": "d9ae8d83",
   "metadata": {},
   "outputs": [
    {
     "name": "stdout",
     "output_type": "stream",
     "text": [
      "[[[ 1  2  3]\n",
      "  [ 4  5  6]\n",
      "  [ 7  8  9]\n",
      "  [10 11 12]]]\n",
      "(1, 4, 3)\n",
      "[ 1  2  3  4  5  6  7  8  9 10 11 12]\n",
      "(12,)\n"
     ]
    }
   ],
   "source": [
    "import numpy as np\n",
    "arr = np.array([[[1, 2, 3],[4, 5, 6],[7, 8, 9],[10, 11, 12]]])\n",
    "print(arr)\n",
    "print(arr.shape)\n",
    "newarr = arr.reshape(-1) # 3-d to 1-d\n",
    "print(newarr)\n",
    "print(newarr.shape)"
   ]
  },
  {
   "cell_type": "code",
   "execution_count": null,
   "id": "c560570e",
   "metadata": {},
   "outputs": [],
   "source": [
    "import numpy as np\n",
    "arr = np.array([1,2,3,4,5,6,7,8,9,10])\n",
    "print(arr)\n",
    "pri\n",
    "arr_3d = arr.reshape(2, 3, 4)\n",
    "\n",
    "print(arr_3d)"
   ]
  }
 ],
 "metadata": {
  "kernelspec": {
   "display_name": "base",
   "language": "python",
   "name": "python3"
  },
  "language_info": {
   "codemirror_mode": {
    "name": "ipython",
    "version": 3
   },
   "file_extension": ".py",
   "mimetype": "text/x-python",
   "name": "python",
   "nbconvert_exporter": "python",
   "pygments_lexer": "ipython3",
   "version": "3.11.7"
  }
 },
 "nbformat": 4,
 "nbformat_minor": 5
}
