{
 "cells": [
  {
   "cell_type": "code",
   "execution_count": 1,
   "id": "9597693a",
   "metadata": {},
   "outputs": [
    {
     "name": "stdout",
     "output_type": "stream",
     "text": [
      "[2 3]\n",
      "[1 2]\n",
      "[1 3]\n"
     ]
    }
   ],
   "source": [
    "#slicing 1-d array\n",
    "import numpy as np\n",
    "arr = np.array([1,2,3,4])\n",
    "print(arr[1:3])\n",
    "print(arr[-4:-2])\n",
    "print(arr[::2])"
   ]
  },
  {
   "cell_type": "code",
   "execution_count": 4,
   "id": "f486e79e",
   "metadata": {},
   "outputs": [
    {
     "name": "stdout",
     "output_type": "stream",
     "text": [
      "[[ 2  3  4]\n",
      " [ 7  8  9]\n",
      " [12 13 14]]\n",
      "[2 3 4]\n",
      "[7 8 9]\n",
      "[2 3 4]\n",
      "[11 12 13 14 15]\n",
      "[ 6  7  8  9 10]\n",
      "[3 8]\n",
      "[[3 4]\n",
      " [8 9]]\n",
      "[[11 12 13 14 15]\n",
      " [ 6  7  8  9 10]\n",
      " [ 1  2  3  4  5]]\n",
      "[[ 5  4  3  2  1]\n",
      " [10  9  8  7  6]\n",
      " [15 14 13 12 11]]\n"
     ]
    }
   ],
   "source": [
    "#slicing 2-d array\n",
    "import numpy as np\n",
    "arr = np.array([[1, 2, 3, 4, 5], [6, 7, 8, 9, 10], [11, 12, 13, 14, 15]])\n",
    "print(arr[:, 1:4])\n",
    "print(arr[0, 1:4])\n",
    "print(arr[1, 1:-1])\n",
    "print(arr[0, 1:-1])\n",
    "print(arr[2, :])\n",
    "print(arr[1, :])\n",
    "print(arr[0:2, 2])\n",
    "print(arr[0:2, 2:4])\n",
    "print(arr[::-1, :])\n",
    "print(arr[:, ::-1])"
   ]
  }
 ],
 "metadata": {
  "kernelspec": {
   "display_name": "base",
   "language": "python",
   "name": "python3"
  },
  "language_info": {
   "codemirror_mode": {
    "name": "ipython",
    "version": 3
   },
   "file_extension": ".py",
   "mimetype": "text/x-python",
   "name": "python",
   "nbconvert_exporter": "python",
   "pygments_lexer": "ipython3",
   "version": "3.11.7"
  }
 },
 "nbformat": 4,
 "nbformat_minor": 5
}
