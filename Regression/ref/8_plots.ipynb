{
 "cells": [
  {
   "cell_type": "markdown",
   "id": "22c5cc0c",
   "metadata": {},
   "source": [
    "## With NYC dataset"
   ]
  },
  {
   "cell_type": "code",
   "execution_count": 219,
   "id": "77ffff44",
   "metadata": {},
   "outputs": [
    {
     "data": {
      "text/html": [
       "<div>\n",
       "<style scoped>\n",
       "    .dataframe tbody tr th:only-of-type {\n",
       "        vertical-align: middle;\n",
       "    }\n",
       "\n",
       "    .dataframe tbody tr th {\n",
       "        vertical-align: top;\n",
       "    }\n",
       "\n",
       "    .dataframe thead th {\n",
       "        text-align: right;\n",
       "    }\n",
       "</style>\n",
       "<table border=\"1\" class=\"dataframe\">\n",
       "  <thead>\n",
       "    <tr style=\"text-align: right;\">\n",
       "      <th></th>\n",
       "      <th>Price</th>\n",
       "      <th>Food</th>\n",
       "      <th>Decor</th>\n",
       "      <th>Service</th>\n",
       "      <th>East</th>\n",
       "    </tr>\n",
       "  </thead>\n",
       "  <tbody>\n",
       "    <tr>\n",
       "      <th>0</th>\n",
       "      <td>36</td>\n",
       "      <td>23</td>\n",
       "      <td>14</td>\n",
       "      <td>21</td>\n",
       "      <td>1</td>\n",
       "    </tr>\n",
       "    <tr>\n",
       "      <th>1</th>\n",
       "      <td>49</td>\n",
       "      <td>20</td>\n",
       "      <td>14</td>\n",
       "      <td>16</td>\n",
       "      <td>0</td>\n",
       "    </tr>\n",
       "    <tr>\n",
       "      <th>2</th>\n",
       "      <td>58</td>\n",
       "      <td>20</td>\n",
       "      <td>15</td>\n",
       "      <td>20</td>\n",
       "      <td>1</td>\n",
       "    </tr>\n",
       "    <tr>\n",
       "      <th>3</th>\n",
       "      <td>44</td>\n",
       "      <td>18</td>\n",
       "      <td>18</td>\n",
       "      <td>20</td>\n",
       "      <td>0</td>\n",
       "    </tr>\n",
       "    <tr>\n",
       "      <th>4</th>\n",
       "      <td>40</td>\n",
       "      <td>20</td>\n",
       "      <td>15</td>\n",
       "      <td>15</td>\n",
       "      <td>0</td>\n",
       "    </tr>\n",
       "  </tbody>\n",
       "</table>\n",
       "</div>"
      ],
      "text/plain": [
       "   Price  Food  Decor  Service  East\n",
       "0     36    23     14       21     1\n",
       "1     49    20     14       16     0\n",
       "2     58    20     15       20     1\n",
       "3     44    18     18       20     0\n",
       "4     40    20     15       15     0"
      ]
     },
     "execution_count": 219,
     "metadata": {},
     "output_type": "execute_result"
    }
   ],
   "source": [
    "import pandas as pd\n",
    "import numpy as np\n",
    "\n",
    "df = pd.read_csv('datasets/nyc.csv')\n",
    "df.head()"
   ]
  },
  {
   "cell_type": "code",
   "execution_count": 220,
   "id": "30ff8974",
   "metadata": {},
   "outputs": [
    {
     "name": "stdout",
     "output_type": "stream",
     "text": [
      "<class 'pandas.core.frame.DataFrame'>\n",
      "RangeIndex: 168 entries, 0 to 167\n",
      "Data columns (total 5 columns):\n",
      " #   Column   Non-Null Count  Dtype\n",
      "---  ------   --------------  -----\n",
      " 0   Price    168 non-null    int64\n",
      " 1   Food     168 non-null    int64\n",
      " 2   Decor    168 non-null    int64\n",
      " 3   Service  168 non-null    int64\n",
      " 4   East     168 non-null    int64\n",
      "dtypes: int64(5)\n",
      "memory usage: 6.7 KB\n"
     ]
    }
   ],
   "source": [
    "df.info()"
   ]
  },
  {
   "cell_type": "code",
   "execution_count": 221,
   "id": "506cf587",
   "metadata": {},
   "outputs": [
    {
     "data": {
      "text/plain": [
       "East\n",
       "0    85\n",
       "1    83\n",
       "Name: count, dtype: int64"
      ]
     },
     "execution_count": 221,
     "metadata": {},
     "output_type": "execute_result"
    }
   ],
   "source": [
    "df['East'].value_counts()"
   ]
  },
  {
   "cell_type": "code",
   "execution_count": 222,
   "id": "d813a2a1",
   "metadata": {},
   "outputs": [
    {
     "data": {
      "text/plain": [
       "(168, 5)"
      ]
     },
     "execution_count": 222,
     "metadata": {},
     "output_type": "execute_result"
    }
   ],
   "source": [
    "df.shape"
   ]
  },
  {
   "cell_type": "code",
   "execution_count": 223,
   "id": "be0d2118",
   "metadata": {},
   "outputs": [
    {
     "data": {
      "text/html": [
       "<div>\n",
       "<style scoped>\n",
       "    .dataframe tbody tr th:only-of-type {\n",
       "        vertical-align: middle;\n",
       "    }\n",
       "\n",
       "    .dataframe tbody tr th {\n",
       "        vertical-align: top;\n",
       "    }\n",
       "\n",
       "    .dataframe thead th {\n",
       "        text-align: right;\n",
       "    }\n",
       "</style>\n",
       "<table border=\"1\" class=\"dataframe\">\n",
       "  <thead>\n",
       "    <tr style=\"text-align: right;\">\n",
       "      <th></th>\n",
       "      <th>Price</th>\n",
       "      <th>Food</th>\n",
       "      <th>Decor</th>\n",
       "      <th>Service</th>\n",
       "      <th>East</th>\n",
       "    </tr>\n",
       "  </thead>\n",
       "  <tbody>\n",
       "    <tr>\n",
       "      <th>0</th>\n",
       "      <td>36</td>\n",
       "      <td>23</td>\n",
       "      <td>14</td>\n",
       "      <td>21</td>\n",
       "      <td>1</td>\n",
       "    </tr>\n",
       "    <tr>\n",
       "      <th>1</th>\n",
       "      <td>49</td>\n",
       "      <td>20</td>\n",
       "      <td>14</td>\n",
       "      <td>16</td>\n",
       "      <td>0</td>\n",
       "    </tr>\n",
       "    <tr>\n",
       "      <th>2</th>\n",
       "      <td>58</td>\n",
       "      <td>20</td>\n",
       "      <td>15</td>\n",
       "      <td>20</td>\n",
       "      <td>1</td>\n",
       "    </tr>\n",
       "    <tr>\n",
       "      <th>3</th>\n",
       "      <td>44</td>\n",
       "      <td>18</td>\n",
       "      <td>18</td>\n",
       "      <td>20</td>\n",
       "      <td>0</td>\n",
       "    </tr>\n",
       "    <tr>\n",
       "      <th>4</th>\n",
       "      <td>40</td>\n",
       "      <td>20</td>\n",
       "      <td>15</td>\n",
       "      <td>15</td>\n",
       "      <td>0</td>\n",
       "    </tr>\n",
       "    <tr>\n",
       "      <th>...</th>\n",
       "      <td>...</td>\n",
       "      <td>...</td>\n",
       "      <td>...</td>\n",
       "      <td>...</td>\n",
       "      <td>...</td>\n",
       "    </tr>\n",
       "    <tr>\n",
       "      <th>163</th>\n",
       "      <td>53</td>\n",
       "      <td>21</td>\n",
       "      <td>18</td>\n",
       "      <td>16</td>\n",
       "      <td>0</td>\n",
       "    </tr>\n",
       "    <tr>\n",
       "      <th>164</th>\n",
       "      <td>34</td>\n",
       "      <td>21</td>\n",
       "      <td>20</td>\n",
       "      <td>21</td>\n",
       "      <td>1</td>\n",
       "    </tr>\n",
       "    <tr>\n",
       "      <th>165</th>\n",
       "      <td>32</td>\n",
       "      <td>20</td>\n",
       "      <td>16</td>\n",
       "      <td>19</td>\n",
       "      <td>1</td>\n",
       "    </tr>\n",
       "    <tr>\n",
       "      <th>166</th>\n",
       "      <td>41</td>\n",
       "      <td>21</td>\n",
       "      <td>12</td>\n",
       "      <td>19</td>\n",
       "      <td>0</td>\n",
       "    </tr>\n",
       "    <tr>\n",
       "      <th>167</th>\n",
       "      <td>37</td>\n",
       "      <td>20</td>\n",
       "      <td>12</td>\n",
       "      <td>17</td>\n",
       "      <td>1</td>\n",
       "    </tr>\n",
       "  </tbody>\n",
       "</table>\n",
       "<p>168 rows × 5 columns</p>\n",
       "</div>"
      ],
      "text/plain": [
       "     Price  Food  Decor  Service  East\n",
       "0       36    23     14       21     1\n",
       "1       49    20     14       16     0\n",
       "2       58    20     15       20     1\n",
       "3       44    18     18       20     0\n",
       "4       40    20     15       15     0\n",
       "..     ...   ...    ...      ...   ...\n",
       "163     53    21     18       16     0\n",
       "164     34    21     20       21     1\n",
       "165     32    20     16       19     1\n",
       "166     41    21     12       19     0\n",
       "167     37    20     12       17     1\n",
       "\n",
       "[168 rows x 5 columns]"
      ]
     },
     "execution_count": 223,
     "metadata": {},
     "output_type": "execute_result"
    }
   ],
   "source": [
    "df.drop_duplicates(keep='first', inplace=True)\n",
    "# keep='first' -> Keeps the first occurrence of each duplicate and removes the rest.\n",
    "# inplace=True  -> Makes the change directly to df, without needing to assign it to a new variable.\n",
    "df"
   ]
  },
  {
   "cell_type": "code",
   "execution_count": 224,
   "id": "5a55cc12",
   "metadata": {},
   "outputs": [
    {
     "data": {
      "text/plain": [
       "Price      0\n",
       "Food       0\n",
       "Decor      0\n",
       "Service    0\n",
       "East       0\n",
       "dtype: int64"
      ]
     },
     "execution_count": 224,
     "metadata": {},
     "output_type": "execute_result"
    }
   ],
   "source": [
    "df.isnull().sum()"
   ]
  },
  {
   "cell_type": "code",
   "execution_count": 225,
   "id": "dce4eb01",
   "metadata": {},
   "outputs": [
    {
     "data": {
      "text/html": [
       "<div>\n",
       "<style scoped>\n",
       "    .dataframe tbody tr th:only-of-type {\n",
       "        vertical-align: middle;\n",
       "    }\n",
       "\n",
       "    .dataframe tbody tr th {\n",
       "        vertical-align: top;\n",
       "    }\n",
       "\n",
       "    .dataframe thead th {\n",
       "        text-align: right;\n",
       "    }\n",
       "</style>\n",
       "<table border=\"1\" class=\"dataframe\">\n",
       "  <thead>\n",
       "    <tr style=\"text-align: right;\">\n",
       "      <th></th>\n",
       "      <th>Price</th>\n",
       "      <th>Food</th>\n",
       "      <th>Decor</th>\n",
       "      <th>Service</th>\n",
       "      <th>East</th>\n",
       "    </tr>\n",
       "  </thead>\n",
       "  <tbody>\n",
       "    <tr>\n",
       "      <th>count</th>\n",
       "      <td>168.000000</td>\n",
       "      <td>168.000000</td>\n",
       "      <td>168.000000</td>\n",
       "      <td>168.000000</td>\n",
       "      <td>168.000000</td>\n",
       "    </tr>\n",
       "    <tr>\n",
       "      <th>mean</th>\n",
       "      <td>45.327381</td>\n",
       "      <td>21.434524</td>\n",
       "      <td>15.785714</td>\n",
       "      <td>17.839286</td>\n",
       "      <td>0.494048</td>\n",
       "    </tr>\n",
       "    <tr>\n",
       "      <th>std</th>\n",
       "      <td>9.948669</td>\n",
       "      <td>2.281506</td>\n",
       "      <td>2.633599</td>\n",
       "      <td>1.949452</td>\n",
       "      <td>0.501459</td>\n",
       "    </tr>\n",
       "    <tr>\n",
       "      <th>min</th>\n",
       "      <td>30.000000</td>\n",
       "      <td>18.000000</td>\n",
       "      <td>12.000000</td>\n",
       "      <td>15.000000</td>\n",
       "      <td>0.000000</td>\n",
       "    </tr>\n",
       "    <tr>\n",
       "      <th>25%</th>\n",
       "      <td>37.000000</td>\n",
       "      <td>20.000000</td>\n",
       "      <td>14.000000</td>\n",
       "      <td>16.000000</td>\n",
       "      <td>0.000000</td>\n",
       "    </tr>\n",
       "    <tr>\n",
       "      <th>50%</th>\n",
       "      <td>44.500000</td>\n",
       "      <td>21.000000</td>\n",
       "      <td>16.000000</td>\n",
       "      <td>18.000000</td>\n",
       "      <td>0.000000</td>\n",
       "    </tr>\n",
       "    <tr>\n",
       "      <th>75%</th>\n",
       "      <td>53.000000</td>\n",
       "      <td>23.000000</td>\n",
       "      <td>18.000000</td>\n",
       "      <td>19.000000</td>\n",
       "      <td>1.000000</td>\n",
       "    </tr>\n",
       "    <tr>\n",
       "      <th>max</th>\n",
       "      <td>100.000000</td>\n",
       "      <td>25.000000</td>\n",
       "      <td>20.000000</td>\n",
       "      <td>21.000000</td>\n",
       "      <td>1.000000</td>\n",
       "    </tr>\n",
       "  </tbody>\n",
       "</table>\n",
       "</div>"
      ],
      "text/plain": [
       "            Price        Food       Decor     Service        East\n",
       "count  168.000000  168.000000  168.000000  168.000000  168.000000\n",
       "mean    45.327381   21.434524   15.785714   17.839286    0.494048\n",
       "std      9.948669    2.281506    2.633599    1.949452    0.501459\n",
       "min     30.000000   18.000000   12.000000   15.000000    0.000000\n",
       "25%     37.000000   20.000000   14.000000   16.000000    0.000000\n",
       "50%     44.500000   21.000000   16.000000   18.000000    0.000000\n",
       "75%     53.000000   23.000000   18.000000   19.000000    1.000000\n",
       "max    100.000000   25.000000   20.000000   21.000000    1.000000"
      ]
     },
     "execution_count": 225,
     "metadata": {},
     "output_type": "execute_result"
    }
   ],
   "source": [
    "df.describe()"
   ]
  },
  {
   "cell_type": "code",
   "execution_count": 226,
   "id": "72eb500d",
   "metadata": {},
   "outputs": [
    {
     "data": {
      "text/plain": [
       "<Axes: ylabel='Price'>"
      ]
     },
     "execution_count": 226,
     "metadata": {},
     "output_type": "execute_result"
    },
    {
     "data": {
      "image/png": "[encoded data removed]",
      "text/plain": [
       "<Figure size 640x480 with 1 Axes>"
      ]
     },
     "metadata": {},
     "output_type": "display_data"
    }
   ],
   "source": [
    "import seaborn as sns\n",
    "\n",
    "sns.boxplot(y = df['Price']) "
   ]
  },
  {
   "cell_type": "code",
   "execution_count": 227,
   "id": "d90133e6",
   "metadata": {},
   "outputs": [
    {
     "data": {
      "text/plain": [
       "'\\nBox plots provide a visual summary of the distribution of data, including:\\n\\nMinimum\\n\\n1st Quartile (Q1)\\n\\nMedian (Q2)\\n\\n3rd Quartile (Q3)\\n\\nMaximum\\n\\n(Optionally) Outliers\\n'"
      ]
     },
     "execution_count": 227,
     "metadata": {},
     "output_type": "execute_result"
    }
   ],
   "source": [
    " #  box plot (also known as a box-and-whisker plot)\n",
    "'''\n",
    "Box plots provide a visual summary of the distribution of data, including:\n",
    "\n",
    "Minimum\n",
    "\n",
    "1st Quartile (Q1)\n",
    "\n",
    "Median (Q2)\n",
    "\n",
    "3rd Quartile (Q3)\n",
    "\n",
    "Maximum\n",
    "\n",
    "(Optionally) Outliers\n",
    "'''\n",
    "\n",
    "# Try to add some outliers data (very large or very small) in the column and find out the output"
   ]
  },
  {
   "cell_type": "code",
   "execution_count": 228,
   "id": "51c2b691",
   "metadata": {},
   "outputs": [
    {
     "data": {
      "text/plain": [
       "array([ 36,  49,  58,  44,  40,  37,  50, 100,  48,  52,  53,  33,  32,\n",
       "        51,  31,  41,  59,  35,  57,  30,  55,  54,  46,  56,  39,  45,\n",
       "        34,  38,  47,  43,  42], dtype=int64)"
      ]
     },
     "execution_count": 228,
     "metadata": {},
     "output_type": "execute_result"
    }
   ],
   "source": [
    "df['Price'].unique()"
   ]
  },
  {
   "cell_type": "code",
   "execution_count": 229,
   "id": "5e25e964",
   "metadata": {},
   "outputs": [
    {
     "data": {
      "text/plain": [
       "<Axes: ylabel='Food'>"
      ]
     },
     "execution_count": 229,
     "metadata": {},
     "output_type": "execute_result"
    },
    {
     "data": {
      "image/png": "[encoded data removed]",
      "text/plain": [
       "<Figure size 640x480 with 1 Axes>"
      ]
     },
     "metadata": {},
     "output_type": "display_data"
    }
   ],
   "source": [
    "sns.boxplot(y = df['Food'])"
   ]
  },
  {
   "cell_type": "code",
   "execution_count": 230,
   "id": "2a25b2ce",
   "metadata": {},
   "outputs": [
    {
     "data": {
      "text/plain": [
       "<Axes: ylabel='Decor'>"
      ]
     },
     "execution_count": 230,
     "metadata": {},
     "output_type": "execute_result"
    },
    {
     "data": {
      "image/png": "[encoded data removed]",
      "text/plain": [
       "<Figure size 640x480 with 1 Axes>"
      ]
     },
     "metadata": {},
     "output_type": "display_data"
    }
   ],
   "source": [
    "sns.boxplot(y = df['Decor'])"
   ]
  },
  {
   "cell_type": "code",
   "execution_count": 231,
   "id": "4f635e1f",
   "metadata": {},
   "outputs": [
    {
     "data": {
      "text/plain": [
       "array([14, 15, 18, 20, 12, 19, 13, 16, 17], dtype=int64)"
      ]
     },
     "execution_count": 231,
     "metadata": {},
     "output_type": "execute_result"
    }
   ],
   "source": [
    "df['Decor'].unique()"
   ]
  },
  {
   "cell_type": "code",
   "execution_count": 232,
   "id": "1c0e0657",
   "metadata": {},
   "outputs": [
    {
     "data": {
      "text/plain": [
       "<Axes: ylabel='Service'>"
      ]
     },
     "execution_count": 232,
     "metadata": {},
     "output_type": "execute_result"
    },
    {
     "data": {
      "image/png": "[encoded data removed]",
      "text/plain": [
       "<Figure size 640x480 with 1 Axes>"
      ]
     },
     "metadata": {},
     "output_type": "display_data"
    }
   ],
   "source": [
    "sns.boxplot(y = df['Service'])"
   ]
  },
  {
   "cell_type": "code",
   "execution_count": null,
   "id": "3a19f3cd",
   "metadata": {},
   "outputs": [
    {
     "data": {
      "text/html": [
       "<div>\n",
       "<style scoped>\n",
       "    .dataframe tbody tr th:only-of-type {\n",
       "        vertical-align: middle;\n",
       "    }\n",
       "\n",
       "    .dataframe tbody tr th {\n",
       "        vertical-align: top;\n",
       "    }\n",
       "\n",
       "    .dataframe thead th {\n",
       "        text-align: right;\n",
       "    }\n",
       "</style>\n",
       "<table border=\"1\" class=\"dataframe\">\n",
       "  <thead>\n",
       "    <tr style=\"text-align: right;\">\n",
       "      <th></th>\n",
       "      <th>Price</th>\n",
       "      <th>Food</th>\n",
       "      <th>Decor</th>\n",
       "      <th>Service</th>\n",
       "    </tr>\n",
       "  </thead>\n",
       "  <tbody>\n",
       "    <tr>\n",
       "      <th>Price</th>\n",
       "      <td>1.000000</td>\n",
       "      <td>-0.040337</td>\n",
       "      <td>-0.032959</td>\n",
       "      <td>0.009522</td>\n",
       "    </tr>\n",
       "    <tr>\n",
       "      <th>Food</th>\n",
       "      <td>-0.040337</td>\n",
       "      <td>1.000000</td>\n",
       "      <td>0.118237</td>\n",
       "      <td>0.115423</td>\n",
       "    </tr>\n",
       "    <tr>\n",
       "      <th>Decor</th>\n",
       "      <td>-0.032959</td>\n",
       "      <td>0.118237</td>\n",
       "      <td>1.000000</td>\n",
       "      <td>-0.031241</td>\n",
       "    </tr>\n",
       "    <tr>\n",
       "      <th>Service</th>\n",
       "      <td>0.009522</td>\n",
       "      <td>0.115423</td>\n",
       "      <td>-0.031241</td>\n",
       "      <td>1.000000</td>\n",
       "    </tr>\n",
       "  </tbody>\n",
       "</table>\n",
       "</div>"
      ],
      "text/plain": [
       "            Price      Food     Decor   Service\n",
       "Price    1.000000 -0.040337 -0.032959  0.009522\n",
       "Food    -0.040337  1.000000  0.118237  0.115423\n",
       "Decor   -0.032959  0.118237  1.000000 -0.031241\n",
       "Service  0.009522  0.115423 -0.031241  1.000000"
      ]
     },
     "execution_count": 235,
     "metadata": {},
     "output_type": "execute_result"
    }
   ],
   "source": [
    "x = df.drop(columns=['East'])\n",
    "x.corr()\n",
    "#df.drop(columns='object').corr()"
   ]
  },
  {
   "cell_type": "code",
   "execution_count": null,
   "id": "6ba557c9",
   "metadata": {},
   "outputs": [
    {
     "data": {
      "text/plain": [
       "'\\n1 ->\\tPerfect positive correlation (as one increases, so does the other)\\n0 ->\\tNo linear correlation\\n-1 ->\\tPerfect negative correlation (as one increases, the other decreases)\\n'"
      ]
     },
     "execution_count": 178,
     "metadata": {},
     "output_type": "execute_result"
    }
   ],
   "source": [
    "\n",
    "'''\n",
    "1 ->\tPerfect positive correlation (as one increases, so does the other)\n",
    "0 ->\tNo linear correlation\n",
    "-1 ->\tPerfect negative correlation (as one increases, the other decreases)\n",
    "'''"
   ]
  },
  {
   "cell_type": "code",
   "execution_count": null,
   "id": "d94c82b0",
   "metadata": {},
   "outputs": [],
   "source": [
    "from sklearn.model_selection import train_test_split\n",
    "from sklearn.linear_model import LinearRegression\n",
    "from sklearn.metrics import mean_squared_error"
   ]
  },
  {
   "cell_type": "code",
   "execution_count": null,
   "id": "04e10c47",
   "metadata": {},
   "outputs": [],
   "source": [
    "X = df[['Food']]\n",
    "y = df['Price']\n",
    "\n",
    "\n",
    "#y = np.log(y)            Price is limited to a range so we need not to take logarithm"
   ]
  },
  {
   "cell_type": "code",
   "execution_count": null,
   "id": "179478f4",
   "metadata": {},
   "outputs": [],
   "source": [
    "X_train, X_test, y_train, y_test = train_test_split(X, y, test_size = 0.3, random_state = 0)"
   ]
  },
  {
   "cell_type": "code",
   "execution_count": null,
   "id": "47dd83ba",
   "metadata": {},
   "outputs": [
    {
     "name": "stdout",
     "output_type": "stream",
     "text": [
      "43.78431372549019\n"
     ]
    }
   ],
   "source": [
    "#Finding the mean for test data value\n",
    "base_pred = np.mean(y_test)\n",
    "print(base_pred)"
   ]
  },
  {
   "cell_type": "code",
   "execution_count": null,
   "id": "89d84943",
   "metadata": {},
   "outputs": [
    {
     "data": {
      "text/plain": [
       "array([43.78431373, 43.78431373, 43.78431373, 43.78431373, 43.78431373,\n",
       "       43.78431373, 43.78431373, 43.78431373, 43.78431373, 43.78431373,\n",
       "       43.78431373, 43.78431373, 43.78431373, 43.78431373, 43.78431373,\n",
       "       43.78431373, 43.78431373, 43.78431373, 43.78431373, 43.78431373,\n",
       "       43.78431373, 43.78431373, 43.78431373, 43.78431373, 43.78431373,\n",
       "       43.78431373, 43.78431373, 43.78431373, 43.78431373, 43.78431373,\n",
       "       43.78431373, 43.78431373, 43.78431373, 43.78431373, 43.78431373,\n",
       "       43.78431373, 43.78431373, 43.78431373, 43.78431373, 43.78431373,\n",
       "       43.78431373, 43.78431373, 43.78431373, 43.78431373, 43.78431373,\n",
       "       43.78431373, 43.78431373, 43.78431373, 43.78431373, 43.78431373,\n",
       "       43.78431373])"
      ]
     },
     "execution_count": 183,
     "metadata": {},
     "output_type": "execute_result"
    }
   ],
   "source": [
    "#Repeating same value tilllength of test data\n",
    "\n",
    "base_pred = np.repeat(base_pred, len(y_test))\n",
    "base_pred"
   ]
  },
  {
   "cell_type": "code",
   "execution_count": null,
   "id": "359f390b",
   "metadata": {},
   "outputs": [
    {
     "data": {
      "text/plain": [
       "9.31857458907555"
      ]
     },
     "execution_count": 184,
     "metadata": {},
     "output_type": "execute_result"
    }
   ],
   "source": [
    "#Finding the RMSE\n",
    "base_root_mean_square_error = np.sqrt(mean_squared_error(y_test, base_pred))\n",
    "base_root_mean_square_error"
   ]
  },
  {
   "cell_type": "code",
   "execution_count": null,
   "id": "8c4eb1a7",
   "metadata": {},
   "outputs": [],
   "source": [
    "ln1 = LinearRegression(fit_intercept=True)\n",
    "\n",
    "model1 = ln1.fit(X_train, y_train)"
   ]
  },
  {
   "cell_type": "code",
   "execution_count": null,
   "id": "78dc687d",
   "metadata": {},
   "outputs": [
    {
     "data": {
      "text/plain": [
       "array([46.19377226, 46.03411483, 45.87445741, 46.03411483, 46.03411483,\n",
       "       45.87445741, 45.71479999, 45.87445741, 45.71479999, 45.39548515,\n",
       "       45.87445741, 46.19377226, 46.03411483, 46.5130871 , 46.5130871 ,\n",
       "       46.19377226, 46.19377226, 45.39548515, 46.19377226, 45.39548515,\n",
       "       45.71479999, 46.03411483, 45.71479999, 46.03411483, 45.71479999,\n",
       "       45.55514257, 45.39548515, 45.55514257, 46.5130871 , 45.71479999,\n",
       "       46.19377226, 45.55514257, 45.55514257, 45.87445741, 45.71479999,\n",
       "       45.55514257, 46.19377226, 46.19377226, 46.19377226, 45.55514257,\n",
       "       45.87445741, 45.71479999, 45.55514257, 46.19377226, 45.55514257,\n",
       "       45.55514257, 45.87445741, 45.71479999, 46.03411483, 46.5130871 ,\n",
       "       45.71479999])"
      ]
     },
     "execution_count": 186,
     "metadata": {},
     "output_type": "execute_result"
    }
   ],
   "source": [
    "#finding the mean for test data value\n",
    "\n",
    "pred1 = ln1.predict(X_test)\n",
    "pred1"
   ]
  },
  {
   "cell_type": "code",
   "execution_count": null,
   "id": "cd87c312",
   "metadata": {},
   "outputs": [
    {
     "name": "stdout",
     "output_type": "stream",
     "text": [
      "9.560272806394513\n"
     ]
    }
   ],
   "source": [
    "#finding the MSE and RMSE\n",
    "\n",
    "ln1_mse = mean_squared_error(y_test, pred1)\n",
    "\n",
    "ln1_rmse = np.sqrt(ln1_mse)\n",
    "print(ln1_rmse)"
   ]
  },
  {
   "cell_type": "code",
   "execution_count": null,
   "id": "9146729e",
   "metadata": {},
   "outputs": [
    {
     "name": "stdout",
     "output_type": "stream",
     "text": [
      "-0.05254724502398589\n"
     ]
    }
   ],
   "source": [
    "#finding the R-squared\n",
    "\n",
    "r2_ln1_test1 = ln1.score(X_test, y_test)\n",
    "\n",
    "print(r2_ln1_test1)"
   ]
  },
  {
   "cell_type": "code",
   "execution_count": null,
   "id": "0cb4b20b",
   "metadata": {},
   "outputs": [
    {
     "data": {
      "text/plain": [
       "Index(['Price', 'Food', 'Decor', 'Service', 'East'], dtype='object')"
      ]
     },
     "execution_count": 189,
     "metadata": {},
     "output_type": "execute_result"
    }
   ],
   "source": [
    "cols = df.columns\n",
    "cols"
   ]
  },
  {
   "cell_type": "code",
   "execution_count": null,
   "id": "fe588264",
   "metadata": {},
   "outputs": [],
   "source": [
    "X = df[[ 'Food', 'Decor', 'Service', 'East']]\n",
    "y = df['Price']"
   ]
  },
  {
   "cell_type": "code",
   "execution_count": null,
   "id": "63e8e5f0",
   "metadata": {},
   "outputs": [],
   "source": [
    "X_train, X_test, y_train, y_test = train_test_split(X, y, test_size = 0.3, random_state = 0)"
   ]
  },
  {
   "cell_type": "code",
   "execution_count": null,
   "id": "30a123ee",
   "metadata": {},
   "outputs": [],
   "source": [
    "ln2 = LinearRegression(fit_intercept=True)\n",
    "\n",
    "model2 = ln2.fit(X_train, y_train)"
   ]
  },
  {
   "cell_type": "code",
   "execution_count": null,
   "id": "2669944e",
   "metadata": {},
   "outputs": [
    {
     "data": {
      "text/plain": [
       "array([45.50976545, 45.57021164, 41.29447576, 48.6862283 , 51.00215135,\n",
       "       46.38428305, 43.29188764, 43.04196277, 46.30834323, 44.56163032,\n",
       "       43.95253122, 43.95175712, 49.11827833, 40.72449154, 43.19306831,\n",
       "       43.86183951, 45.26719411, 44.54536259, 50.01486898, 48.22981529,\n",
       "       44.56085622, 44.21794971, 48.03956251, 50.66001893, 44.59768117,\n",
       "       43.95330531, 47.85085793, 46.26922836, 46.19325618, 46.97634033,\n",
       "       44.25706459, 44.62130241, 43.74755891, 50.73673285, 40.87640353,\n",
       "       43.45851916, 47.73577088, 45.50976545, 48.60951439, 48.8373662 ,\n",
       "       50.05246802, 41.0658822 , 46.93722545, 45.50976545, 48.49523379,\n",
       "       44.27917   , 49.86298934, 47.029433  , 50.66001893, 44.73480892,\n",
       "       43.00284789])"
      ]
     },
     "execution_count": 193,
     "metadata": {},
     "output_type": "execute_result"
    }
   ],
   "source": [
    "pred2 = ln2.predict(X_test)\n",
    "pred2"
   ]
  },
  {
   "cell_type": "code",
   "execution_count": null,
   "id": "895fb828",
   "metadata": {},
   "outputs": [
    {
     "name": "stdout",
     "output_type": "stream",
     "text": [
      "10.741968764719255\n"
     ]
    }
   ],
   "source": [
    "#finding the MSE and RMSE\n",
    "\n",
    "ln2_mse = mean_squared_error(y_test, pred2)\n",
    "\n",
    "ln2_rmse = np.sqrt(ln2_mse)\n",
    "print(ln2_rmse)"
   ]
  },
  {
   "cell_type": "code",
   "execution_count": null,
   "id": "03067941",
   "metadata": {},
   "outputs": [
    {
     "name": "stdout",
     "output_type": "stream",
     "text": [
      "-0.3288280861714026\n"
     ]
    }
   ],
   "source": [
    "#finding the R-squared\n",
    "\n",
    "r2_ln2_test2 = ln2.score(X_test, y_test)\n",
    "\n",
    "print(r2_ln2_test2)"
   ]
  },
  {
   "cell_type": "markdown",
   "id": "24177ef8",
   "metadata": {},
   "source": [
    "## With own dataset"
   ]
  },
  {
   "cell_type": "code",
   "execution_count": null,
   "id": "de2e1dfa",
   "metadata": {},
   "outputs": [
    {
     "data": {
      "text/html": [
       "<div>\n",
       "<style scoped>\n",
       "    .dataframe tbody tr th:only-of-type {\n",
       "        vertical-align: middle;\n",
       "    }\n",
       "\n",
       "    .dataframe tbody tr th {\n",
       "        vertical-align: top;\n",
       "    }\n",
       "\n",
       "    .dataframe thead th {\n",
       "        text-align: right;\n",
       "    }\n",
       "</style>\n",
       "<table border=\"1\" class=\"dataframe\">\n",
       "  <thead>\n",
       "    <tr style=\"text-align: right;\">\n",
       "      <th></th>\n",
       "      <th>HouseSize</th>\n",
       "      <th>DistanceToCity</th>\n",
       "      <th>Location</th>\n",
       "      <th>Price</th>\n",
       "    </tr>\n",
       "  </thead>\n",
       "  <tbody>\n",
       "    <tr>\n",
       "      <th>0</th>\n",
       "      <td>48.6</td>\n",
       "      <td>27.90</td>\n",
       "      <td>B</td>\n",
       "      <td>19.35</td>\n",
       "    </tr>\n",
       "    <tr>\n",
       "      <th>1</th>\n",
       "      <td>65.2</td>\n",
       "      <td>25.99</td>\n",
       "      <td>A</td>\n",
       "      <td>25.37</td>\n",
       "    </tr>\n",
       "    <tr>\n",
       "      <th>2</th>\n",
       "      <td>47.7</td>\n",
       "      <td>29.19</td>\n",
       "      <td>A</td>\n",
       "      <td>19.66</td>\n",
       "    </tr>\n",
       "    <tr>\n",
       "      <th>3</th>\n",
       "      <td>47.7</td>\n",
       "      <td>32.02</td>\n",
       "      <td>C</td>\n",
       "      <td>18.61</td>\n",
       "    </tr>\n",
       "    <tr>\n",
       "      <th>4</th>\n",
       "      <td>65.8</td>\n",
       "      <td>39.43</td>\n",
       "      <td>B</td>\n",
       "      <td>27.20</td>\n",
       "    </tr>\n",
       "    <tr>\n",
       "      <th>...</th>\n",
       "      <td>...</td>\n",
       "      <td>...</td>\n",
       "      <td>...</td>\n",
       "      <td>...</td>\n",
       "    </tr>\n",
       "    <tr>\n",
       "      <th>85</th>\n",
       "      <td>115.4</td>\n",
       "      <td>81.93</td>\n",
       "      <td>C</td>\n",
       "      <td>45.12</td>\n",
       "    </tr>\n",
       "    <tr>\n",
       "      <th>86</th>\n",
       "      <td>133.0</td>\n",
       "      <td>75.58</td>\n",
       "      <td>C</td>\n",
       "      <td>50.43</td>\n",
       "    </tr>\n",
       "    <tr>\n",
       "      <th>87</th>\n",
       "      <td>132.6</td>\n",
       "      <td>80.77</td>\n",
       "      <td>B</td>\n",
       "      <td>50.44</td>\n",
       "    </tr>\n",
       "    <tr>\n",
       "      <th>88</th>\n",
       "      <td>130.1</td>\n",
       "      <td>80.29</td>\n",
       "      <td>C</td>\n",
       "      <td>52.66</td>\n",
       "    </tr>\n",
       "    <tr>\n",
       "      <th>89</th>\n",
       "      <td>127.7</td>\n",
       "      <td>74.29</td>\n",
       "      <td>A</td>\n",
       "      <td>49.62</td>\n",
       "    </tr>\n",
       "  </tbody>\n",
       "</table>\n",
       "<p>90 rows × 4 columns</p>\n",
       "</div>"
      ],
      "text/plain": [
       "    HouseSize  DistanceToCity Location  Price\n",
       "0        48.6           27.90        B  19.35\n",
       "1        65.2           25.99        A  25.37\n",
       "2        47.7           29.19        A  19.66\n",
       "3        47.7           32.02        C  18.61\n",
       "4        65.8           39.43        B  27.20\n",
       "..        ...             ...      ...    ...\n",
       "85      115.4           81.93        C  45.12\n",
       "86      133.0           75.58        C  50.43\n",
       "87      132.6           80.77        B  50.44\n",
       "88      130.1           80.29        C  52.66\n",
       "89      127.7           74.29        A  49.62\n",
       "\n",
       "[90 rows x 4 columns]"
      ]
     },
     "execution_count": 196,
     "metadata": {},
     "output_type": "execute_result"
    }
   ],
   "source": [
    "df = pd.read_csv(\"datasets/outliers.csv\")\n",
    "df"
   ]
  },
  {
   "cell_type": "code",
   "execution_count": null,
   "id": "b87936b6",
   "metadata": {},
   "outputs": [
    {
     "data": {
      "text/plain": [
       "HouseSize         0\n",
       "DistanceToCity    0\n",
       "Location          0\n",
       "Price             0\n",
       "dtype: int64"
      ]
     },
     "execution_count": 197,
     "metadata": {},
     "output_type": "execute_result"
    }
   ],
   "source": [
    "df.isnull().sum()"
   ]
  },
  {
   "cell_type": "code",
   "execution_count": null,
   "id": "b2d41b1b",
   "metadata": {},
   "outputs": [
    {
     "data": {
      "text/plain": [
       "array(['B', 'A', 'C'], dtype=object)"
      ]
     },
     "execution_count": 198,
     "metadata": {},
     "output_type": "execute_result"
    }
   ],
   "source": [
    "df['Location'].unique()"
   ]
  },
  {
   "cell_type": "code",
   "execution_count": null,
   "id": "5159249c",
   "metadata": {},
   "outputs": [
    {
     "data": {
      "text/plain": [
       "Location\n",
       "B    33\n",
       "A    30\n",
       "C    27\n",
       "Name: count, dtype: int64"
      ]
     },
     "execution_count": 199,
     "metadata": {},
     "output_type": "execute_result"
    }
   ],
   "source": [
    "df['Location'].value_counts()"
   ]
  },
  {
   "cell_type": "code",
   "execution_count": null,
   "id": "62b2db89",
   "metadata": {},
   "outputs": [],
   "source": [
    "df.drop_duplicates(keep='first', inplace=True)"
   ]
  },
  {
   "cell_type": "code",
   "execution_count": null,
   "id": "8c68b0c5",
   "metadata": {},
   "outputs": [
    {
     "data": {
      "text/html": [
       "<div>\n",
       "<style scoped>\n",
       "    .dataframe tbody tr th:only-of-type {\n",
       "        vertical-align: middle;\n",
       "    }\n",
       "\n",
       "    .dataframe tbody tr th {\n",
       "        vertical-align: top;\n",
       "    }\n",
       "\n",
       "    .dataframe thead th {\n",
       "        text-align: right;\n",
       "    }\n",
       "</style>\n",
       "<table border=\"1\" class=\"dataframe\">\n",
       "  <thead>\n",
       "    <tr style=\"text-align: right;\">\n",
       "      <th></th>\n",
       "      <th>HouseSize</th>\n",
       "      <th>DistanceToCity</th>\n",
       "      <th>Price</th>\n",
       "    </tr>\n",
       "  </thead>\n",
       "  <tbody>\n",
       "    <tr>\n",
       "      <th>count</th>\n",
       "      <td>90.000000</td>\n",
       "      <td>90.000000</td>\n",
       "      <td>90.000000</td>\n",
       "    </tr>\n",
       "    <tr>\n",
       "      <th>mean</th>\n",
       "      <td>53.281111</td>\n",
       "      <td>32.865111</td>\n",
       "      <td>22.401778</td>\n",
       "    </tr>\n",
       "    <tr>\n",
       "      <th>std</th>\n",
       "      <td>20.321925</td>\n",
       "      <td>12.138333</td>\n",
       "      <td>7.312295</td>\n",
       "    </tr>\n",
       "    <tr>\n",
       "      <th>min</th>\n",
       "      <td>23.800000</td>\n",
       "      <td>20.410000</td>\n",
       "      <td>13.510000</td>\n",
       "    </tr>\n",
       "    <tr>\n",
       "      <th>25%</th>\n",
       "      <td>44.100000</td>\n",
       "      <td>26.280000</td>\n",
       "      <td>19.122500</td>\n",
       "    </tr>\n",
       "    <tr>\n",
       "      <th>50%</th>\n",
       "      <td>49.450000</td>\n",
       "      <td>30.895000</td>\n",
       "      <td>20.450000</td>\n",
       "    </tr>\n",
       "    <tr>\n",
       "      <th>75%</th>\n",
       "      <td>57.075000</td>\n",
       "      <td>33.497500</td>\n",
       "      <td>23.340000</td>\n",
       "    </tr>\n",
       "    <tr>\n",
       "      <th>max</th>\n",
       "      <td>133.000000</td>\n",
       "      <td>81.930000</td>\n",
       "      <td>52.660000</td>\n",
       "    </tr>\n",
       "  </tbody>\n",
       "</table>\n",
       "</div>"
      ],
      "text/plain": [
       "        HouseSize  DistanceToCity      Price\n",
       "count   90.000000       90.000000  90.000000\n",
       "mean    53.281111       32.865111  22.401778\n",
       "std     20.321925       12.138333   7.312295\n",
       "min     23.800000       20.410000  13.510000\n",
       "25%     44.100000       26.280000  19.122500\n",
       "50%     49.450000       30.895000  20.450000\n",
       "75%     57.075000       33.497500  23.340000\n",
       "max    133.000000       81.930000  52.660000"
      ]
     },
     "execution_count": 201,
     "metadata": {},
     "output_type": "execute_result"
    }
   ],
   "source": [
    "df.describe()"
   ]
  },
  {
   "cell_type": "code",
   "execution_count": null,
   "id": "89b7ce3b",
   "metadata": {},
   "outputs": [],
   "source": [
    "import matplotlib.pyplot as plt"
   ]
  },
  {
   "cell_type": "code",
   "execution_count": null,
   "id": "f7941782",
   "metadata": {},
   "outputs": [
    {
     "data": {
      "image/png": "[encoded data removed]",
      "text/plain": [
       "<Figure size 640x480 with 1 Axes>"
      ]
     },
     "metadata": {},
     "output_type": "display_data"
    },
    {
     "data": {
      "image/png": "[encoded data removed]",
      "text/plain": [
       "<Figure size 640x480 with 1 Axes>"
      ]
     },
     "metadata": {},
     "output_type": "display_data"
    },
    {
     "data": {
      "image/png": "[encoded data removed]",
      "text/plain": [
       "<Figure size 640x480 with 1 Axes>"
      ]
     },
     "metadata": {},
     "output_type": "display_data"
    },
    {
     "data": {
      "image/png": "[encoded data removed]",
      "text/plain": [
       "<Figure size 640x480 with 1 Axes>"
      ]
     },
     "metadata": {},
     "output_type": "display_data"
    }
   ],
   "source": [
    "for cols in df.columns:\n",
    "    plt.figure()\n",
    "    sns.boxplot(y=df[cols])"
   ]
  },
  {
   "cell_type": "code",
   "execution_count": null,
   "id": "ab865209",
   "metadata": {},
   "outputs": [],
   "source": [
    "df.drop(columns=['Location'],inplace=True)"
   ]
  },
  {
   "cell_type": "code",
   "execution_count": null,
   "id": "3a9703f5",
   "metadata": {},
   "outputs": [
    {
     "data": {
      "text/html": [
       "<div>\n",
       "<style scoped>\n",
       "    .dataframe tbody tr th:only-of-type {\n",
       "        vertical-align: middle;\n",
       "    }\n",
       "\n",
       "    .dataframe tbody tr th {\n",
       "        vertical-align: top;\n",
       "    }\n",
       "\n",
       "    .dataframe thead th {\n",
       "        text-align: right;\n",
       "    }\n",
       "</style>\n",
       "<table border=\"1\" class=\"dataframe\">\n",
       "  <thead>\n",
       "    <tr style=\"text-align: right;\">\n",
       "      <th></th>\n",
       "      <th>HouseSize</th>\n",
       "      <th>DistanceToCity</th>\n",
       "      <th>Price</th>\n",
       "    </tr>\n",
       "  </thead>\n",
       "  <tbody>\n",
       "    <tr>\n",
       "      <th>HouseSize</th>\n",
       "      <td>1.000000</td>\n",
       "      <td>0.802199</td>\n",
       "      <td>0.982737</td>\n",
       "    </tr>\n",
       "    <tr>\n",
       "      <th>DistanceToCity</th>\n",
       "      <td>0.802199</td>\n",
       "      <td>1.000000</td>\n",
       "      <td>0.858075</td>\n",
       "    </tr>\n",
       "    <tr>\n",
       "      <th>Price</th>\n",
       "      <td>0.982737</td>\n",
       "      <td>0.858075</td>\n",
       "      <td>1.000000</td>\n",
       "    </tr>\n",
       "  </tbody>\n",
       "</table>\n",
       "</div>"
      ],
      "text/plain": [
       "                HouseSize  DistanceToCity     Price\n",
       "HouseSize        1.000000        0.802199  0.982737\n",
       "DistanceToCity   0.802199        1.000000  0.858075\n",
       "Price            0.982737        0.858075  1.000000"
      ]
     },
     "execution_count": 205,
     "metadata": {},
     "output_type": "execute_result"
    }
   ],
   "source": [
    "df.corr()"
   ]
  },
  {
   "cell_type": "code",
   "execution_count": null,
   "id": "ba375194",
   "metadata": {},
   "outputs": [],
   "source": [
    "from sklearn.model_selection import train_test_split\n",
    "from sklearn.linear_model import LinearRegression\n",
    "\n",
    "from sklearn.metrics import mean_squared_error"
   ]
  },
  {
   "cell_type": "code",
   "execution_count": null,
   "id": "165b2d31",
   "metadata": {},
   "outputs": [],
   "source": [
    "x = df[['HouseSize','DistanceToCity']]\n",
    "y = df['Price']"
   ]
  },
  {
   "cell_type": "code",
   "execution_count": null,
   "id": "fe29e4b7",
   "metadata": {},
   "outputs": [],
   "source": [
    "X_train, X_test, y_train, y_test = train_test_split(x, y, test_size = 0.3, random_state = 0)"
   ]
  },
  {
   "cell_type": "code",
   "execution_count": null,
   "id": "360ba622",
   "metadata": {},
   "outputs": [
    {
     "name": "stdout",
     "output_type": "stream",
     "text": [
      "21.16814814814815\n"
     ]
    }
   ],
   "source": [
    "#Finding the mean for test data value\n",
    "base_pred = np.mean(y_test)\n",
    "print(base_pred)"
   ]
  },
  {
   "cell_type": "code",
   "execution_count": null,
   "id": "45262d9b",
   "metadata": {},
   "outputs": [
    {
     "data": {
      "text/plain": [
       "array([21.16814815, 21.16814815, 21.16814815, 21.16814815, 21.16814815,\n",
       "       21.16814815, 21.16814815, 21.16814815, 21.16814815, 21.16814815,\n",
       "       21.16814815, 21.16814815, 21.16814815, 21.16814815, 21.16814815,\n",
       "       21.16814815, 21.16814815, 21.16814815, 21.16814815, 21.16814815,\n",
       "       21.16814815, 21.16814815, 21.16814815, 21.16814815, 21.16814815,\n",
       "       21.16814815, 21.16814815])"
      ]
     },
     "execution_count": 210,
     "metadata": {},
     "output_type": "execute_result"
    }
   ],
   "source": [
    "#Repeating same value tilllength of test data\n",
    "\n",
    "base_pred = np.repeat(base_pred, len(y_test))\n",
    "base_pred"
   ]
  },
  {
   "cell_type": "code",
   "execution_count": null,
   "id": "c0cca16f",
   "metadata": {},
   "outputs": [
    {
     "data": {
      "text/plain": [
       "6.2011815105026775"
      ]
     },
     "execution_count": 211,
     "metadata": {},
     "output_type": "execute_result"
    }
   ],
   "source": [
    "#Finding the RMSE\n",
    "\n",
    "base_root_mean_square_error = np.sqrt(mean_squared_error(y_test, base_pred))\n",
    "base_root_mean_square_error"
   ]
  },
  {
   "cell_type": "code",
   "execution_count": null,
   "id": "3b31bac3",
   "metadata": {},
   "outputs": [],
   "source": [
    "ln1 = LinearRegression(fit_intercept=True)\n",
    "\n",
    "model1 = ln1.fit(X_train, y_train)"
   ]
  },
  {
   "cell_type": "code",
   "execution_count": null,
   "id": "8e0a4bdf",
   "metadata": {},
   "outputs": [
    {
     "data": {
      "text/plain": [
       "array([20.44508359, 19.74138128, 20.57888637, 19.54847936, 13.64929756,\n",
       "       18.36639872, 16.19791236, 23.57724458, 22.14940475, 49.28962028,\n",
       "       22.7677384 , 20.06922907, 21.38141516, 21.76227911, 18.74556322,\n",
       "       19.19730408, 22.0096682 , 17.20100623, 24.2073661 , 19.14211132,\n",
       "       22.81564565, 19.98129605, 22.13673216, 18.8164005 , 21.84195256,\n",
       "       21.49818206, 24.96159986])"
      ]
     },
     "execution_count": 213,
     "metadata": {},
     "output_type": "execute_result"
    }
   ],
   "source": [
    "pred1 = ln1.predict(X_test)\n",
    "pred1"
   ]
  },
  {
   "cell_type": "code",
   "execution_count": null,
   "id": "9ae5aab3",
   "metadata": {},
   "outputs": [
    {
     "name": "stdout",
     "output_type": "stream",
     "text": [
      "1.037497026424951\n"
     ]
    }
   ],
   "source": [
    "#finding the MSE and RMSE\n",
    "\n",
    "ln1_mse = mean_squared_error(y_test, pred1)\n",
    "\n",
    "ln1_rmse = np.sqrt(ln1_mse)\n",
    "print(ln1_rmse)"
   ]
  },
  {
   "cell_type": "code",
   "execution_count": null,
   "id": "7c74c8d0",
   "metadata": {},
   "outputs": [
    {
     "name": "stdout",
     "output_type": "stream",
     "text": [
      "0.9720085862093332\n"
     ]
    }
   ],
   "source": [
    "#finding the R-squared\n",
    "\n",
    "r2_ln1_test1 = ln1.score(X_test, y_test)\n",
    "\n",
    "print(r2_ln1_test1)"
   ]
  },
  {
   "cell_type": "code",
   "execution_count": null,
   "id": "ad9aa316",
   "metadata": {},
   "outputs": [],
   "source": []
  }
 ],
 "metadata": {
  "kernelspec": {
   "display_name": "base",
   "language": "python",
   "name": "python3"
  },
  "language_info": {
   "codemirror_mode": {
    "name": "ipython",
    "version": 3
   },
   "file_extension": ".py",
   "mimetype": "text/x-python",
   "name": "python",
   "nbconvert_exporter": "python",
   "pygments_lexer": "ipython3",
   "version": "3.12.3"
  }
 },
 "nbformat": 4,
 "nbformat_minor": 5
}
